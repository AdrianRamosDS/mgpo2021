{
 "cells": [
  {
   "cell_type": "code",
   "execution_count": 1,
   "metadata": {},
   "outputs": [],
   "source": [
    "from pgmpy.factors.discrete import DiscreteFactor"
   ]
  },
  {
   "cell_type": "code",
   "execution_count": 2,
   "metadata": {},
   "outputs": [],
   "source": [
    "P_D = DiscreteFactor(variables=[\"D\"],\n",
    "                     cardinality=[2],\n",
    "                     values=[0.7, 0.3])\n",
    "P_I = DiscreteFactor(variables=[\"I\"],\n",
    "                     cardinality=[2],\n",
    "                     values=[0.5, 0.5])\n",
    "P_G_given_ID = DiscreteFactor(variables=[\"G\", \"I\", \"D\"],\n",
    "                              cardinality=[2, 2, 2],\n",
    "                              values=[0.8, 0.95, 0.01, 0.4, \n",
    "                                      0.2, 0.05, 0.99, 0.6])"
   ]
  },
  {
   "cell_type": "code",
   "execution_count": 19,
   "metadata": {},
   "outputs": [
    {
     "name": "stdout",
     "output_type": "stream",
     "text": [
      "+------+------+------+--------------+\n",
      "| D    | I    | G    |   phi(D,I,G) |\n",
      "+======+======+======+==============+\n",
      "| D(0) | I(0) | G(0) |       0.2800 |\n",
      "+------+------+------+--------------+\n",
      "| D(0) | I(0) | G(1) |       0.0700 |\n",
      "+------+------+------+--------------+\n",
      "| D(0) | I(1) | G(0) |       0.0035 |\n",
      "+------+------+------+--------------+\n",
      "| D(0) | I(1) | G(1) |       0.3465 |\n",
      "+------+------+------+--------------+\n",
      "| D(1) | I(0) | G(0) |       0.1425 |\n",
      "+------+------+------+--------------+\n",
      "| D(1) | I(0) | G(1) |       0.0075 |\n",
      "+------+------+------+--------------+\n",
      "| D(1) | I(1) | G(0) |       0.0600 |\n",
      "+------+------+------+--------------+\n",
      "| D(1) | I(1) | G(1) |       0.0900 |\n",
      "+------+------+------+--------------+\n"
     ]
    }
   ],
   "source": [
    "print(joint)"
   ]
  },
  {
   "cell_type": "code",
   "execution_count": 14,
   "metadata": {},
   "outputs": [
    {
     "name": "stdout",
     "output_type": "stream",
     "text": [
      "+------+------+------------+\n",
      "| I    | G    |   phi(I,G) |\n",
      "+======+======+============+\n",
      "| I(0) | G(0) |     0.4225 |\n",
      "+------+------+------------+\n",
      "| I(0) | G(1) |     0.0775 |\n",
      "+------+------+------------+\n",
      "| I(1) | G(0) |     0.0635 |\n",
      "+------+------+------------+\n",
      "| I(1) | G(1) |     0.4365 |\n",
      "+------+------+------------+\n"
     ]
    }
   ],
   "source": [
    "joint = P_D * P_I * P_G_given_ID\n",
    "P_GI = joint.marginalize(variables=[\"D\"], inplace=False)\n",
    "print(P_GI)"
   ]
  },
  {
   "cell_type": "code",
   "execution_count": 18,
   "metadata": {},
   "outputs": [
    {
     "name": "stdout",
     "output_type": "stream",
     "text": [
      "+------+----------+\n",
      "| I    |   phi(I) |\n",
      "+======+==========+\n",
      "| I(0) |   0.1508 |\n",
      "+------+----------+\n",
      "| I(1) |   0.8492 |\n",
      "+------+----------+\n"
     ]
    }
   ],
   "source": [
    "P_I_g1 = P_GI.reduce([(\"G\", 1)], inplace=False)\n",
    "P_I_given_g1 = P_I_g1\n",
    "P_I_given_g1.values = P_I_given_g1.values / P_I_given_g1.values.sum()\n",
    "print(P_I_given_g1)"
   ]
  },
  {
   "cell_type": "code",
   "execution_count": null,
   "metadata": {},
   "outputs": [],
   "source": []
  },
  {
   "cell_type": "code",
   "execution_count": 20,
   "metadata": {},
   "outputs": [],
   "source": [
    "P_M = DiscreteFactor(variables=[\"M\"],\n",
    "                     cardinality=[3],\n",
    "                     values=[0.3, 0.4, 0.3])\n",
    "U_MF = DiscreteFactor(variables=[\"M\", \"F\"],\n",
    "                     cardinality=[3, 2],\n",
    "                     values=[0, -15, 0, 5, 0, 30])"
   ]
  },
  {
   "cell_type": "code",
   "execution_count": 21,
   "metadata": {},
   "outputs": [
    {
     "name": "stdout",
     "output_type": "stream",
     "text": [
      "+------+----------+\n",
      "| F    |   phi(F) |\n",
      "+======+==========+\n",
      "| F(0) |   0.0000 |\n",
      "+------+----------+\n",
      "| F(1) |   6.5000 |\n",
      "+------+----------+\n"
     ]
    }
   ],
   "source": [
    "EU = (P_M * U_MF).marginalize(variables=[\"M\"], inplace=False)\n",
    "print(EU)"
   ]
  },
  {
   "cell_type": "code",
   "execution_count": 22,
   "metadata": {},
   "outputs": [
    {
     "data": {
      "text/plain": [
       "6.5"
      ]
     },
     "execution_count": 22,
     "metadata": {},
     "output_type": "execute_result"
    }
   ],
   "source": [
    "MEU = EU.values.max()\n",
    "MEU"
   ]
  },
  {
   "cell_type": "code",
   "execution_count": 24,
   "metadata": {},
   "outputs": [
    {
     "name": "stdout",
     "output_type": "stream",
     "text": [
      "+------+------+------------+\n",
      "| M    | F    |   phi(M,F) |\n",
      "+======+======+============+\n",
      "| M(0) | F(0) |     0.0000 |\n",
      "+------+------+------------+\n",
      "| M(0) | F(1) |    -4.5000 |\n",
      "+------+------+------------+\n",
      "| M(1) | F(0) |     0.0000 |\n",
      "+------+------+------------+\n",
      "| M(1) | F(1) |     2.0000 |\n",
      "+------+------+------------+\n",
      "| M(2) | F(0) |     0.0000 |\n",
      "+------+------+------------+\n",
      "| M(2) | F(1) |     9.0000 |\n",
      "+------+------+------------+\n"
     ]
    }
   ],
   "source": [
    "mu_MF = P_M * U_MF\n",
    "print(mu_MF)"
   ]
  },
  {
   "cell_type": "code",
   "execution_count": 25,
   "metadata": {},
   "outputs": [
    {
     "name": "stdout",
     "output_type": "stream",
     "text": [
      "+------+------+------------+\n",
      "| F    | M    |   phi(F,M) |\n",
      "+======+======+============+\n",
      "| F(0) | M(0) |     1.0000 |\n",
      "+------+------+------------+\n",
      "| F(0) | M(1) |     0.0000 |\n",
      "+------+------+------------+\n",
      "| F(0) | M(2) |     0.0000 |\n",
      "+------+------+------------+\n",
      "| F(1) | M(0) |     0.0000 |\n",
      "+------+------+------------+\n",
      "| F(1) | M(1) |     1.0000 |\n",
      "+------+------+------------+\n",
      "| F(1) | M(2) |     1.0000 |\n",
      "+------+------+------------+\n"
     ]
    }
   ],
   "source": [
    "delta_F_given_M = DiscreteFactor(variables=[\"F\", \"M\"],\n",
    "                                 cardinality=[2, 3],\n",
    "                                 values=[1, 0, 0, 0, 1, 1])\n",
    "print(delta_F_given_M)"
   ]
  },
  {
   "cell_type": "code",
   "execution_count": 26,
   "metadata": {},
   "outputs": [
    {
     "name": "stdout",
     "output_type": "stream",
     "text": [
      "+---------+\n",
      "|   phi() |\n",
      "+=========+\n",
      "| 11.0000 |\n",
      "+---------+\n"
     ]
    }
   ],
   "source": [
    "MEU_ = (delta_F_given_M * mu_MF).marginalize(variables=[\"M\", \"F\"],\n",
    "                                             inplace=False)\n",
    "print(MEU_)"
   ]
  },
  {
   "cell_type": "code",
   "execution_count": 27,
   "metadata": {},
   "outputs": [
    {
     "data": {
      "text/plain": [
       "4.5"
      ]
     },
     "execution_count": 27,
     "metadata": {},
     "output_type": "execute_result"
    }
   ],
   "source": [
    "VPI = MEU_.values - MEU\n",
    "VPI"
   ]
  },
  {
   "cell_type": "code",
   "execution_count": null,
   "metadata": {},
   "outputs": [],
   "source": []
  }
 ],
 "metadata": {
  "kernelspec": {
   "display_name": "Python 3",
   "language": "python",
   "name": "python3"
  },
  "language_info": {
   "codemirror_mode": {
    "name": "ipython",
    "version": 3
   },
   "file_extension": ".py",
   "mimetype": "text/x-python",
   "name": "python",
   "nbconvert_exporter": "python",
   "pygments_lexer": "ipython3",
   "version": "3.7.6"
  }
 },
 "nbformat": 4,
 "nbformat_minor": 4
}
